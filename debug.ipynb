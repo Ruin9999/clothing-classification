{
 "cells": [
  {
   "cell_type": "code",
   "execution_count": null,
   "metadata": {},
   "outputs": [],
   "source": [
    "import torch\n",
    "import torch.nn as nn"
   ]
  },
  {
   "cell_type": "code",
   "execution_count": 2,
   "metadata": {},
   "outputs": [
    {
     "name": "stdout",
     "output_type": "stream",
     "text": [
      "Tensor shape: torch.Size([28, 28, 1])\n"
     ]
    }
   ],
   "source": [
    "# Create a 3D tensor representing an image with dimensions [28, 28, 1]\n",
    "image_tensor = torch.zeros(28, 28, 1)\n",
    "print(f\"Tensor shape: {image_tensor.shape}\")"
   ]
  },
  {
   "cell_type": "code",
   "execution_count": null,
   "metadata": {},
   "outputs": [
    {
     "name": "stdout",
     "output_type": "stream",
     "text": [
      "Flattened tensor shape: torch.Size([784])\n"
     ]
    }
   ],
   "source": [
    "# flattened_tensor = image_tensor.view(28 * 28)\n",
    "flattened_tensor = image_tensor.flatten()\n",
    "print(f\"Flattened tensor shape: {flattened_tensor.shape}\")"
   ]
  },
  {
   "cell_type": "code",
   "execution_count": 1,
   "metadata": {},
   "outputs": [
    {
     "name": "stdout",
     "output_type": "stream",
     "text": [
      "Input shape: torch.Size([4, 1, 28, 28])\n",
      "Output shape: torch.Size([4, 10])\n"
     ]
    }
   ],
   "source": [
    "import torch\n",
    "from models import SimplifiedVisionTransformer\n",
    "# %xmode verbose\n",
    "\n",
    "batch_size = 4\n",
    "height = 28\n",
    "width = 28\n",
    "num_channels = 1\n",
    "num_classes = 10\n",
    "\n",
    "test_input = torch.randn((batch_size, num_channels, height, width))\n",
    "\n",
    "model = SimplifiedVisionTransformer(\n",
    "  in_channels=num_channels,\n",
    "  hidden_channels=64,\n",
    "  out_channels=num_classes,\n",
    "  num_transformer_layers=1,\n",
    "  num_heads=8,\n",
    "  dropout=0.1,\n",
    ")\n",
    "\n",
    "output = model(test_input)\n",
    "\n",
    "print(f\"Input shape: {test_input.shape}\")\n",
    "print(f\"Output shape: {output.shape}\")"
   ]
  },
  {
   "cell_type": "code",
   "execution_count": null,
   "metadata": {},
   "outputs": [],
   "source": []
  }
 ],
 "metadata": {
  "kernelspec": {
   "display_name": "venv",
   "language": "python",
   "name": "python3"
  },
  "language_info": {
   "codemirror_mode": {
    "name": "ipython",
    "version": 3
   },
   "file_extension": ".py",
   "mimetype": "text/x-python",
   "name": "python",
   "nbconvert_exporter": "python",
   "pygments_lexer": "ipython3",
   "version": "3.11.9"
  }
 },
 "nbformat": 4,
 "nbformat_minor": 2
}
