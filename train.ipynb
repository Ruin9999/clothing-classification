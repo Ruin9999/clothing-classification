{
 "cells": [
  {
   "cell_type": "markdown",
   "metadata": {},
   "source": [
    "# Vision Transformer Training"
   ]
  },
  {
   "cell_type": "code",
   "execution_count": 7,
   "metadata": {},
   "outputs": [],
   "source": [
    "import tqdm\n",
    "import torch\n",
    "import torch.nn as nn\n",
    "import torch.optim as optim\n",
    "from torch.utils.data import DataLoader\n",
    "from torchvision import datasets, transforms\n",
    "\n",
    "from utils import EarlyStopper\n",
    "from models import SimplifiedVisionTransformer\n",
    "\n",
    "torch.manual_seed(42)\n",
    "device = torch.device(\"cuda\" if torch.cuda.is_available() else \"cpu\")\n",
    "\n",
    "# Hyperparameters\n",
    "batch_size = 1024\n",
    "learning_rate = 1e-3\n",
    "hidden_channels = 64\n",
    "num_transformer_layers = 2\n",
    "num_heads = 8\n",
    "mlp_ratio = 4"
   ]
  },
  {
   "cell_type": "markdown",
   "metadata": {},
   "source": [
    "### Load Dataset"
   ]
  },
  {
   "cell_type": "code",
   "execution_count": 8,
   "metadata": {},
   "outputs": [],
   "source": [
    "transform = transforms.Compose([\n",
    "  transforms.ToTensor(),\n",
    "  transforms.Normalize((0.5,), (0.5,))\n",
    "])\n",
    "\n",
    "train_dataset = datasets.FashionMNIST(root='./data', train=True, download=True, transform=transform)\n",
    "test_dataset = datasets.FashionMNIST(root='./data', train=False, download=True, transform=transform)\n",
    "\n",
    "train_dataloader = DataLoader(train_dataset, batch_size=batch_size, shuffle=True, num_workers=2)\n",
    "test_dataloader = DataLoader(test_dataset, batch_size=batch_size, shuffle=False, num_workers=2)"
   ]
  },
  {
   "cell_type": "code",
   "execution_count": null,
   "metadata": {},
   "outputs": [
    {
     "name": "stdout",
     "output_type": "stream",
     "text": [
      "torch.Size([1024, 1, 28, 28])\n"
     ]
    }
   ],
   "source": [
    "print(next(iter(train_dataloader))[0].shape)"
   ]
  },
  {
   "cell_type": "markdown",
   "metadata": {},
   "source": [
    "### Load Vision Transformer, Loss & Optimizer"
   ]
  },
  {
   "cell_type": "code",
   "execution_count": 6,
   "metadata": {},
   "outputs": [],
   "source": [
    "model = SimplifiedVisionTransformer(\n",
    "  in_channels=1,\n",
    "  hidden_channels=hidden_channels,\n",
    "  out_channels=10,\n",
    "  num_transformer_layers=num_transformer_layers,\n",
    "  num_heads=num_heads,\n",
    "  mlp_ratio=mlp_ratio,\n",
    "  dropout=0.1,\n",
    "  image_height=28,\n",
    "  image_width=28\n",
    ").to(device)\n",
    "\n",
    "criterion = nn.CrossEntropyLoss()\n",
    "optimizer = optim.Adam(model.parameters(), lr=learning_rate)"
   ]
  },
  {
   "cell_type": "code",
   "execution_count": null,
   "metadata": {},
   "outputs": [],
   "source": [
    "print(model(next(iter(train_dataloader))[0].to(device)).shape)"
   ]
  },
  {
   "cell_type": "code",
   "execution_count": null,
   "metadata": {},
   "outputs": [],
   "source": [
    "num_epochs = 1000\n",
    "training_losses = []\n",
    "training_accuracies = []\n",
    "testing_losses = []\n",
    "testing_accuracies = []\n",
    "early_stopper = EarlyStopper(patience=10)\n",
    "\n",
    "for epoch in tqdm.tqdm(range(num_epochs), desc=\"Training...\"):\n",
    "  model.train()\n",
    "\n",
    "  epoch_loss = 0.0\n",
    "  epoch_correct = 0\n",
    "  epoch_total = 0\n",
    "\n",
    "  # Training loop\n",
    "  for x, y in train_dataloader:\n",
    "    optimizer.zero_grad()\n",
    "    output = model(x.float())\n",
    "    "
   ]
  }
 ],
 "metadata": {
  "kernelspec": {
   "display_name": "venv",
   "language": "python",
   "name": "python3"
  },
  "language_info": {
   "codemirror_mode": {
    "name": "ipython",
    "version": 3
   },
   "file_extension": ".py",
   "mimetype": "text/x-python",
   "name": "python",
   "nbconvert_exporter": "python",
   "pygments_lexer": "ipython3",
   "version": "3.11.9"
  }
 },
 "nbformat": 4,
 "nbformat_minor": 2
}
